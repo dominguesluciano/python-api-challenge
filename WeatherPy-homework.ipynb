{
 "cells": [
  {
   "cell_type": "markdown",
   "metadata": {},
   "source": [
    "# WeatherPy\n",
    "----\n",
    "\n",
    "#### Note\n",
    "* Instructions have been included for each segment. You do not have to follow them exactly, but they are included to help you think through the steps."
   ]
  },
  {
   "cell_type": "markdown",
   "metadata": {},
   "source": [
    "## Analysis/observations\n",
    "\n",
    "### City Latitude vs Temperature\n",
    "\n",
    "*  There seems to exist a strong relation beetween Latitude and Temperature in terms of distance to the poles and Earth’s Equator line. It is possible to say that the farther the cities are from the Earth's Equator line the lower are the temperatures. Also, it could be posible to afirm that the North Hemisphere contains the largest number of cities with temperatures lower than 32ºF (water freezing point), which means that at this time of the year these cities tend to have snowfalls.\n",
    "\n",
    "*  A small indicator of colder temperatures in cities closer to the South Pole is also noticed, possibly due to the fact that even though it’s Summer time on the South Hemisphere, the Sunrays don’t fall straight on the poles, making it colder than cities located closer to the Equator.\n",
    "\n",
    "### City Latitude vs Humidity\n",
    "\n",
    "*  Cities with high level of humidity figuring in both hemispheres might represent a weak correlation between *Latitude* and *Humidity*. Even though, there are two small indicators that could be questioned:\n",
    "\n",
    "1) cities closer to the North Pole tends to be more humid\n",
    "2) cities closer to the Earth's Equator line shows to be drier (low humidity)\n",
    "\n",
    "Further analysis would be necessary to draw conclusions and confirm the findings.\n",
    "\n",
    "### Latitude vs Cloudiness\n",
    "\n",
    "*  The spread of the scatter plot shows weak or no relationship between Latitude and Cloudiness, as dots are all over the plot. No patterns or outliers intuitively identified.\n",
    "\n",
    "### Latitude vs Wind Speed\n",
    "* It is possible to see some outliers on the North Hemisphere (cities with high wind speed), but apart from that the pattern is low wind speed in both Hemispheres for this time of year.\n",
    "\n",
    "_The following data collection was done 01/12/2020_\n"
   ]
  },
  {
   "cell_type": "code",
   "execution_count": 50,
   "metadata": {},
   "outputs": [
    {
     "name": "stdout",
     "output_type": "stream",
     "text": [
      "Overwriting api_keys.py\n"
     ]
    }
   ],
   "source": [
    "%%writefile api_keys.py\n",
    "api_key = \"19a9d4248a2a5b71ee049c3741553003\"\n"
   ]
  },
  {
   "cell_type": "code",
   "execution_count": 18,
   "metadata": {
    "scrolled": true
   },
   "outputs": [],
   "source": [
    "# Dependencies and Setup\n",
    "import matplotlib.pyplot as plt\n",
    "import pandas as pd\n",
    "import numpy as np\n",
    "import requests\n",
    "import time\n",
    "\n",
    "# Import API key\n",
    "from api_keys import api_key\n",
    "\n",
    "# Incorporated citipy to determine city based on latitude and longitude\n",
    "from citipy import citipy\n",
    "\n",
    "# Output File (CSV)\n",
    "output_data_file = \"output_data/cities.csv\"\n",
    "\n",
    "# Range of latitudes and longitudes\n",
    "lat_range = (-90.000, 90.000)\n",
    "lng_range = (-180.000, 180.000)"
   ]
  },
  {
   "cell_type": "markdown",
   "metadata": {},
   "source": [
    "## Generate Cities List"
   ]
  },
  {
   "cell_type": "code",
   "execution_count": 35,
   "metadata": {},
   "outputs": [
    {
     "data": {
      "text/plain": [
       "608"
      ]
     },
     "execution_count": 35,
     "metadata": {},
     "output_type": "execute_result"
    }
   ],
   "source": [
    "# List for holding lat_lngs and cities\n",
    "lat_lngs = []\n",
    "cities = []\n",
    "\n",
    "# Create a set of random lat and lng combinations\n",
    "#São Paulo lat/lng\n",
    "#lats = np.random.uniform(low=-19.000, high=-25.6500, size=1500)\n",
    "#lngs = np.random.uniform(low=-52.0000, high=-44.0000, size=1500)\n",
    "\n",
    "lats = np.random.uniform(low=-90.000, high=90.000, size=1500)\n",
    "lngs = np.random.uniform(low=-180.000, high=180.000, size=1500)\n",
    "lat_lngs = zip(lats, lngs)\n",
    "\n",
    "# Identify nearest city for each lat, lng combination\n",
    "for lat_lng in lat_lngs:\n",
    "    city = citipy.nearest_city(lat_lng[0], lat_lng[1]).city_name\n",
    "    \n",
    "    # If the city is unique, then add it to a our cities list\n",
    "    if city not in cities:\n",
    "        cities.append(city)\n",
    "\n",
    "# Print the city count to confirm sufficient count\n",
    "len(cities)\n"
   ]
  },
  {
   "cell_type": "markdown",
   "metadata": {},
   "source": [
    "### Perform API Calls\n",
    "* Perform a weather check on each city using a series of successive API calls.\n",
    "* Include a print log of each city as it'sbeing processed (with the city number and city name).\n"
   ]
  },
  {
   "cell_type": "code",
   "execution_count": 21,
   "metadata": {},
   "outputs": [
    {
     "data": {
      "text/plain": [
       "{'coord': {'lon': -46.64, 'lat': -23.55},\n",
       " 'weather': [{'id': 300,\n",
       "   'main': 'Drizzle',\n",
       "   'description': 'light intensity drizzle',\n",
       "   'icon': '09n'},\n",
       "  {'id': 701, 'main': 'Mist', 'description': 'mist', 'icon': '50n'}],\n",
       " 'base': 'stations',\n",
       " 'main': {'temp': 294.94,\n",
       "  'feels_like': 296.33,\n",
       "  'temp_min': 293.15,\n",
       "  'temp_max': 297.15,\n",
       "  'pressure': 1018,\n",
       "  'humidity': 88},\n",
       " 'visibility': 4000,\n",
       " 'wind': {'speed': 3.1, 'deg': 130},\n",
       " 'clouds': {'all': 75},\n",
       " 'dt': 1578954983,\n",
       " 'sys': {'type': 1,\n",
       "  'id': 8394,\n",
       "  'country': 'BR',\n",
       "  'sunrise': 1578904274,\n",
       "  'sunset': 1578952706},\n",
       " 'timezone': -10800,\n",
       " 'id': 3448439,\n",
       " 'name': 'Sao Paulo',\n",
       " 'cod': 200}"
      ]
     },
     "execution_count": 21,
     "metadata": {},
     "output_type": "execute_result"
    }
   ],
   "source": [
    "#example/base of json structure to collect variables\n",
    "url = f\"http://api.openweathermap.org/data/2.5/weather?APPID={api_key}&q=sao paulo\"\n",
    "response = requests.get(url)\n",
    "response_json = response.json()\n",
    "response_json\n",
    "\n"
   ]
  },
  {
   "cell_type": "code",
   "execution_count": 36,
   "metadata": {
    "scrolled": true
   },
   "outputs": [
    {
     "name": "stdout",
     "output_type": "stream",
     "text": [
      "This is an error message!\n",
      "This is an error message!\n",
      "This is an error message!\n",
      "This is an error message!\n",
      "This is an error message!\n",
      "This is an error message!\n",
      "This is an error message!\n",
      "This is an error message!\n",
      "This is an error message!\n",
      "This is an error message!\n",
      "This is an error message!\n",
      "This is an error message!\n",
      "This is an error message!\n",
      "This is an error message!\n",
      "This is an error message!\n",
      "This is an error message!\n",
      "This is an error message!\n",
      "This is an error message!\n",
      "This is an error message!\n",
      "This is an error message!\n",
      "This is an error message!\n",
      "This is an error message!\n",
      "This is an error message!\n",
      "This is an error message!\n",
      "This is an error message!\n",
      "This is an error message!\n",
      "This is an error message!\n",
      "This is an error message!\n",
      "This is an error message!\n",
      "This is an error message!\n",
      "This is an error message!\n",
      "This is an error message!\n",
      "This is an error message!\n",
      "This is an error message!\n",
      "This is an error message!\n",
      "This is an error message!\n",
      "This is an error message!\n",
      "This is an error message!\n"
     ]
    }
   ],
   "source": [
    "# Set url for API\n",
    "\n",
    "\n",
    "#cities = [\"punta arenas\", \"bredasdorp\", \"busselton\", \"qaanaaq\",\"nome\",\"avarua\",\"ushuaia\"]\n",
    "# set up lists to hold reponse info\n",
    "lat = []\n",
    "lon = []\n",
    "temp = []\n",
    "humidity = []\n",
    "windspeed = []\n",
    "cloudiness = []\n",
    "final_cities = []\n",
    "record_count = 1\n",
    "set_count = 1\n",
    "\n",
    "# Loop through the list of cities and perform a request for data on each\n",
    "for i,city in enumerate(cities[:500]):\n",
    "    if (i % 50 == 0 and i >= 50):\n",
    "        set_count += 1\n",
    "        record_count = 0\n",
    "    #print(\"Processing Record %s of Set %s | %s\" % (record_count, set_count, city))\n",
    "    record_count += 1\n",
    "    try:\n",
    "        url = f\"http://api.openweathermap.org/data/2.5/weather?APPID={api_key}&q={city}&units=imperial\"\n",
    "        response = requests.get(url).json()\n",
    "        lat.append(response[\"coord\"][\"lat\"])\n",
    "        lon.append(response[\"coord\"][\"lon\"])\n",
    "        temp.append(response[\"main\"][\"temp_max\"])\n",
    "        humidity.append(response[\"main\"][\"humidity\"])\n",
    "        windspeed.append(response[\"wind\"][\"speed\"])\n",
    "        cloudiness.append(response[\"clouds\"][\"all\"])\n",
    "        final_cities.append(city)\n",
    "        #print(\"city number is: \" +str(index)+ \",\"\" city name is : \" + city )\n",
    "        #time.sleep(3)\n",
    "    except:\n",
    "        print(\"This is an error message!\")"
   ]
  },
  {
   "cell_type": "code",
   "execution_count": 37,
   "metadata": {},
   "outputs": [
    {
     "data": {
      "text/html": [
       "<div>\n",
       "<style scoped>\n",
       "    .dataframe tbody tr th:only-of-type {\n",
       "        vertical-align: middle;\n",
       "    }\n",
       "\n",
       "    .dataframe tbody tr th {\n",
       "        vertical-align: top;\n",
       "    }\n",
       "\n",
       "    .dataframe thead th {\n",
       "        text-align: right;\n",
       "    }\n",
       "</style>\n",
       "<table border=\"1\" class=\"dataframe\">\n",
       "  <thead>\n",
       "    <tr style=\"text-align: right;\">\n",
       "      <th></th>\n",
       "      <th>Cities</th>\n",
       "      <th>Latitude</th>\n",
       "      <th>Temp</th>\n",
       "      <th>Humidity</th>\n",
       "      <th>Windspeed</th>\n",
       "      <th>Cloudiness</th>\n",
       "    </tr>\n",
       "  </thead>\n",
       "  <tbody>\n",
       "    <tr>\n",
       "      <th>0</th>\n",
       "      <td>batemans bay</td>\n",
       "      <td>-35.72</td>\n",
       "      <td>71.01</td>\n",
       "      <td>84</td>\n",
       "      <td>1.01</td>\n",
       "      <td>28</td>\n",
       "    </tr>\n",
       "    <tr>\n",
       "      <th>1</th>\n",
       "      <td>hilo</td>\n",
       "      <td>19.73</td>\n",
       "      <td>75.00</td>\n",
       "      <td>99</td>\n",
       "      <td>7.56</td>\n",
       "      <td>95</td>\n",
       "    </tr>\n",
       "    <tr>\n",
       "      <th>2</th>\n",
       "      <td>bluff</td>\n",
       "      <td>-46.60</td>\n",
       "      <td>50.00</td>\n",
       "      <td>91</td>\n",
       "      <td>1.01</td>\n",
       "      <td>88</td>\n",
       "    </tr>\n",
       "    <tr>\n",
       "      <th>3</th>\n",
       "      <td>jamestown</td>\n",
       "      <td>42.10</td>\n",
       "      <td>35.01</td>\n",
       "      <td>92</td>\n",
       "      <td>6.93</td>\n",
       "      <td>1</td>\n",
       "    </tr>\n",
       "    <tr>\n",
       "      <th>4</th>\n",
       "      <td>tiksi</td>\n",
       "      <td>71.69</td>\n",
       "      <td>-18.78</td>\n",
       "      <td>89</td>\n",
       "      <td>5.37</td>\n",
       "      <td>55</td>\n",
       "    </tr>\n",
       "    <tr>\n",
       "      <th>...</th>\n",
       "      <td>...</td>\n",
       "      <td>...</td>\n",
       "      <td>...</td>\n",
       "      <td>...</td>\n",
       "      <td>...</td>\n",
       "      <td>...</td>\n",
       "    </tr>\n",
       "    <tr>\n",
       "      <th>457</th>\n",
       "      <td>zemio</td>\n",
       "      <td>5.03</td>\n",
       "      <td>100.04</td>\n",
       "      <td>13</td>\n",
       "      <td>3.96</td>\n",
       "      <td>25</td>\n",
       "    </tr>\n",
       "    <tr>\n",
       "      <th>458</th>\n",
       "      <td>wewak</td>\n",
       "      <td>-3.55</td>\n",
       "      <td>78.57</td>\n",
       "      <td>82</td>\n",
       "      <td>15.55</td>\n",
       "      <td>99</td>\n",
       "    </tr>\n",
       "    <tr>\n",
       "      <th>459</th>\n",
       "      <td>hirtshals</td>\n",
       "      <td>57.59</td>\n",
       "      <td>46.99</td>\n",
       "      <td>81</td>\n",
       "      <td>19.46</td>\n",
       "      <td>75</td>\n",
       "    </tr>\n",
       "    <tr>\n",
       "      <th>460</th>\n",
       "      <td>nioro</td>\n",
       "      <td>13.35</td>\n",
       "      <td>87.87</td>\n",
       "      <td>10</td>\n",
       "      <td>11.50</td>\n",
       "      <td>0</td>\n",
       "    </tr>\n",
       "    <tr>\n",
       "      <th>461</th>\n",
       "      <td>fairlie</td>\n",
       "      <td>55.76</td>\n",
       "      <td>43.00</td>\n",
       "      <td>80</td>\n",
       "      <td>16.11</td>\n",
       "      <td>40</td>\n",
       "    </tr>\n",
       "  </tbody>\n",
       "</table>\n",
       "<p>462 rows × 6 columns</p>\n",
       "</div>"
      ],
      "text/plain": [
       "           Cities  Latitude    Temp  Humidity  Windspeed  Cloudiness\n",
       "0    batemans bay    -35.72   71.01        84       1.01          28\n",
       "1            hilo     19.73   75.00        99       7.56          95\n",
       "2           bluff    -46.60   50.00        91       1.01          88\n",
       "3       jamestown     42.10   35.01        92       6.93           1\n",
       "4           tiksi     71.69  -18.78        89       5.37          55\n",
       "..            ...       ...     ...       ...        ...         ...\n",
       "457         zemio      5.03  100.04        13       3.96          25\n",
       "458         wewak     -3.55   78.57        82      15.55          99\n",
       "459     hirtshals     57.59   46.99        81      19.46          75\n",
       "460         nioro     13.35   87.87        10      11.50           0\n",
       "461       fairlie     55.76   43.00        80      16.11          40\n",
       "\n",
       "[462 rows x 6 columns]"
      ]
     },
     "execution_count": 37,
     "metadata": {},
     "output_type": "execute_result"
    }
   ],
   "source": [
    "cities_dict = {\"Cities\" : final_cities,\n",
    "               \"Latitude\" : lat,\n",
    "               \"Temp\" : temp,\n",
    "               \"Humidity\": humidity,\n",
    "               \"Windspeed\" : windspeed,\n",
    "               \"Cloudiness\": cloudiness}\n",
    "cities_df = pd.DataFrame(cities_dict)\n",
    "cities_df"
   ]
  },
  {
   "cell_type": "markdown",
   "metadata": {},
   "source": [
    "### Convert Raw Data to DataFrame\n",
    "* Export the city data into a .csv.\n",
    "* Display the DataFrame"
   ]
  },
  {
   "cell_type": "code",
   "execution_count": 45,
   "metadata": {
    "scrolled": true
   },
   "outputs": [],
   "source": [
    "cities_df.to_csv(r'cities.csv', index = False, header=True)\n"
   ]
  },
  {
   "cell_type": "markdown",
   "metadata": {},
   "source": [
    "### Plotting the Data\n",
    "* Use proper labeling of the plots using plot titles (including date of analysis) and axes labels.\n",
    "* Save the plotted figures as .pngs."
   ]
  },
  {
   "cell_type": "markdown",
   "metadata": {},
   "source": [
    "#### Latitude vs. Temperature Plot"
   ]
  },
  {
   "cell_type": "code",
   "execution_count": 51,
   "metadata": {
    "scrolled": false
   },
   "outputs": [
    {
     "data": {
      "image/png": "[encoded data removed]",
      "text/plain": [
       "<Figure size 432x288 with 1 Axes>"
      ]
     },
     "metadata": {
      "needs_background": "light"
     },
     "output_type": "display_data"
    }
   ],
   "source": [
    "plt.scatter(cities_df['Latitude'],cities_df['Temp'],color='blue')\n",
    "plt.xlabel('Latitude')\n",
    "plt.ylabel('Max Temperature (F)')\n",
    "plt.grid()\n",
    "plt.title('City Latitude vs. Max Temperature')\n",
    "plt.savefig(\"lat-temperature.png\")\n"
   ]
  },
  {
   "cell_type": "markdown",
   "metadata": {},
   "source": [
    "#### Latitude vs. Humidity Plot"
   ]
  },
  {
   "cell_type": "code",
   "execution_count": 52,
   "metadata": {
    "scrolled": false
   },
   "outputs": [
    {
     "data": {
      "image/png": "[encoded data removed]",
      "text/plain": [
       "<Figure size 432x288 with 1 Axes>"
      ]
     },
     "metadata": {
      "needs_background": "light"
     },
     "output_type": "display_data"
    }
   ],
   "source": [
    "plt.scatter(cities_df['Latitude'],cities_df['Humidity'],color='blue')\n",
    "plt.xlabel('Latitude')\n",
    "plt.ylabel('Humidity (%)')\n",
    "plt.grid()\n",
    "plt.title('City Latitude vs. Max Humidity')\n",
    "plt.savefig(\"lat-humidity.png\")"
   ]
  },
  {
   "cell_type": "markdown",
   "metadata": {},
   "source": [
    "#### Latitude vs. Cloudiness Plot"
   ]
  },
  {
   "cell_type": "code",
   "execution_count": 53,
   "metadata": {
    "scrolled": false
   },
   "outputs": [
    {
     "data": {
      "image/png": "[encoded data removed]",
      "text/plain": [
       "<Figure size 432x288 with 1 Axes>"
      ]
     },
     "metadata": {
      "needs_background": "light"
     },
     "output_type": "display_data"
    }
   ],
   "source": [
    "plt.scatter(cities_df['Latitude'],cities_df['Cloudiness'],color='blue')\n",
    "plt.xlabel('Latitude')\n",
    "plt.ylabel('Cloudiness (%)')\n",
    "plt.grid()\n",
    "plt.title('City Latitude vs. Cloudiness')\n",
    "plt.savefig(\"lat-cloudiness.png\")"
   ]
  },
  {
   "cell_type": "markdown",
   "metadata": {},
   "source": [
    "#### Latitude vs. Wind Speed Plot"
   ]
  },
  {
   "cell_type": "code",
   "execution_count": 54,
   "metadata": {
    "scrolled": true
   },
   "outputs": [
    {
     "data": {
      "image/png": "[encoded data removed]",
      "text/plain": [
       "<Figure size 432x288 with 1 Axes>"
      ]
     },
     "metadata": {
      "needs_background": "light"
     },
     "output_type": "display_data"
    }
   ],
   "source": [
    "plt.scatter(cities_df['Latitude'],cities_df['Windspeed'],color='blue')\n",
    "plt.xlabel('Latitude')\n",
    "plt.ylabel('Wind Speed (mph)')\n",
    "plt.grid()\n",
    "plt.title('City Latitude vs. Wind Speed')\n",
    "plt.savefig(\"lat-windspeed.png\")"
   ]
  },
  {
   "cell_type": "code",
   "execution_count": null,
   "metadata": {},
   "outputs": [],
   "source": []
  },
  {
   "cell_type": "code",
   "execution_count": null,
   "metadata": {},
   "outputs": [],
   "source": []
  }
 ],
 "metadata": {
  "anaconda-cloud": {},
  "kernel_info": {
   "name": "python3"
  },
  "kernelspec": {
   "display_name": "Python 3",
   "language": "python",
   "name": "python3"
  },
  "language_info": {
   "codemirror_mode": {
    "name": "ipython",
    "version": 3
   },
   "file_extension": ".py",
   "mimetype": "text/x-python",
   "name": "python",
   "nbconvert_exporter": "python",
   "pygments_lexer": "ipython3",
   "version": "3.6.9"
  },
  "nteract": {
   "version": "0.12.3"
  }
 },
 "nbformat": 4,
 "nbformat_minor": 2
}
